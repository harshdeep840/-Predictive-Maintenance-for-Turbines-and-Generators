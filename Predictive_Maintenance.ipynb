{
  "nbformat": 4,
  "nbformat_minor": 0,
  "metadata": {
    "colab": {
      "provenance": [],
      "gpuType": "T4"
    },
    "kernelspec": {
      "name": "python3",
      "display_name": "Python 3"
    },
    "language_info": {
      "name": "python"
    },
    "accelerator": "GPU"
  },
  "cells": [
    {
      "cell_type": "code",
      "execution_count": null,
      "metadata": {
        "id": "fhqZUwYGbEsr"
      },
      "outputs": [],
      "source": [
        "import pandas as pd\n",
        "from sklearn.preprocessing import StandardScaler\n",
        "\n",
        "def load_and_preprocess(filepath=\"/content/drive/MyDrive/turbine_sensor_data.csv\"):\n",
        "    import pandas as pd\n",
        "    from sklearn.preprocessing import StandardScaler\n",
        "\n",
        "    df = pd.read_csv(filepath, parse_dates=['timestamp'])\n",
        "    df = df.sort_values(by='timestamp')\n",
        "    features = df[['temperature', 'vibration', 'pressure']]\n",
        "    scaler = StandardScaler()\n",
        "    scaled_features = scaler.fit_transform(features)\n",
        "    return scaled_features, scaler, df\n",
        "\n"
      ]
    },
    {
      "cell_type": "code",
      "source": [
        "from keras.models import Model\n",
        "from keras.layers import Input, Dense\n",
        "\n",
        "def build_autoencoder(input_dim):\n",
        "    input_layer = Input(shape=(input_dim,))\n",
        "    encoded = Dense(64, activation=\"relu\")(input_layer)\n",
        "    encoded = Dense(32, activation=\"relu\")(encoded)\n",
        "    decoded = Dense(64, activation=\"relu\")(encoded)\n",
        "    output_layer = Dense(input_dim)(decoded)\n",
        "    autoencoder = Model(inputs=input_layer, outputs=output_layer)\n",
        "    autoencoder.compile(optimizer='adam', loss='mse')\n",
        "    return autoencoder\n"
      ],
      "metadata": {
        "id": "NvI1fQMkcO3S"
      },
      "execution_count": null,
      "outputs": []
    },
    {
      "cell_type": "code",
      "source": [
        "!mkdir -p data\n",
        "!mkdir -p models\n",
        "!mkdir -p src\n",
        "# Create empty __init__.py in src if it doesn't exist\n",
        "!touch src/__ini"
      ],
      "metadata": {
        "id": "54H68tPcclpk"
      },
      "execution_count": null,
      "outputs": []
    },
    {
      "cell_type": "code",
      "source": [
        "from IPython import get_ipython\n",
        "from IPython.display import display\n",
        "# %%\n",
        "# No longer defining the function here as it will be in src/preprocessing.py\n",
        "# import pandas as pd\n",
        "# from sklearn.preprocessing import StandardScaler\n",
        "#\n",
        "# def load_and_preprocess(filepath=\"/content/turbine_sensor_data.csv\"):\n",
        "#     df = pd.read_csv(filepath, parse_dates=['timestamp'])\n",
        "#     df = df.sort_values(by='timestamp')\n",
        "#     features = df[['temperature', 'vibration', 'pressure']]\n",
        "#     scaler = StandardScaler()\n",
        "#     scaled_features = scaler.fit_transform(features)\n",
        "#     return scaled_features, scaler, df\n",
        "#\n",
        "# # Call the function (This call will be moved later)\n",
        "# scaled_features, scaler, df = load_and_preprocess()\n",
        "\n",
        "# %%\n",
        "# No longer defining the function here as it will be in src/autoencoder_model.py\n",
        "# from keras.models import Model\n",
        "# from keras.layers import Input, Dense\n",
        "#\n",
        "# def build_autoencoder(input_dim):\n",
        "#     input_layer = Input(shape=(input_dim,))\n",
        "#     encoded = Dense(64, activation=\"relu\")(input_layer)\n",
        "#     encoded = Dense(32, activation=\"relu\")(encoded)\n",
        "#     decoded = Dense(64, activation=\"relu\")(encoded)\n",
        "#     output_layer = Dense(input_dim)(decoded)\n",
        "#     autoencoder = Model(inputs=input_layer, outputs=output_layer)\n",
        "#     autoencoder.compile(optimizer='adam', loss='mse')\n",
        "#     return autoencoder\n",
        "\n",
        "# %%\n",
        "!mkdir -p data\n",
        "!mkdir -p models\n",
        "!mkdir -p src\n",
        "# Correct the typo and create empty __init__.py in src\n",
        "!touch src/__init__.py\n",
        "\n",
        "# Create preprocessing.py in src with the load_and_preprocess function\n",
        "# Using %%writefile to create the file in the notebook\n",
        "get_ipython().run_cell_magic('writefile', 'src/preprocessing.py', 'import pandas as pd\\nfrom sklearn.preprocessing import StandardScaler\\n\\ndef load_and_preprocess(filepath=\"/content/turbine_sensor_data.csv\"):\\n    df = pd.read_csv(filepath, parse_dates=[\\'timestamp\\'])\\n    df = df.sort_values(by=\\'timestamp\\')\\n    features = df[[\\'temperature\\', \\'vibration\\', \\'pressure\\']]\\n    scaler = StandardScaler()\\n    scaled_features = scaler.fit_transform(features)\\n    return scaled_features, scaler, df\\n')\n",
        "\n",
        "# Create autoencoder_model.py in src with the build_autoencoder function\n",
        "get_ipython().run_cell_magic('writefile', 'src/autoencoder_model.py', 'from keras.models import Model\\nfrom keras.layers import Input, Dense\\n\\ndef build_autoencoder(input_dim):\\n    input_layer = Input(shape=(input_dim,))\\n    encoded = Dense(64, activation=\"relu\")(input_layer)\\n    encoded = Dense(32, activation=\"relu\")(encoded)\\n    decoded = Dense(64, activation=\"relu\")(encoded)\\n    output_layer = Dense(input_dim)(decoded)\\n    autoencoder = Model(inputs=input_layer, outputs=output_layer)\\n    autoencoder.compile(optimizer=\\'adam\\', loss=\\'mse\\')\\n    return autoencoder\\n')\n",
        "\n",
        "# %%\n",
        "import sys\n",
        "import os\n",
        "\n",
        "# Add the parent directory of 'src' to the Python path\n",
        "# This assumes 'src' is in the current working directory.\n",
        "# This line is correct as is.\n",
        "sys.path.append(os.getcwd())\n",
        "\n",
        "# Now import the functions from the created files in src\n",
        "from src.preprocessing import load_and_preprocess\n",
        "from src.autoencoder_model import build_autoencoder\n",
        "import numpy as np\n",
        "import joblib\n",
        "\n",
        "# Call the function after it's available via the import\n",
        "# Ensure the data file exists at 'data/turbine_sensor_data.csv' if you are using that path\n",
        "# For demonstration, using the original path from the function definition if 'data/turbine_sensor_data.csv' doesn't exist\n",
        "# If you have the data in data/turbine_sensor_data.csv, use that path.\n",
        "# Example if data is in data/turbine_sensor_data.csv:\n",
        "# data, scaler, df = load_and_preprocess('data/turbine_sensor_data.csv')\n",
        "# Example if data is still in /content/turbine_sensor_data.csv and you didn't move it:\n",
        "# data, scaler, df = load_and_preprocess('/content/turbine_sensor_data.csv')\n",
        "\n",
        "# Assuming the data is in '/content/turbine_sensor_data.csv' based on the original function\n",
        "# If you've manually moved the file to data/turbine_sensor_data.csv, use that path instead.\n",
        "data, scaler, df = load_and_preprocess('/content/drive/MyDrive/turbine_sensor_data.csv')\n",
        "\n",
        "\n",
        "model = build_autoencoder(data.shape[1])\n",
        "model.fit(data, data, epochs=20, batch_size=32, validation_split=0.1)\n",
        "\n",
        "model.save('models/autoencoder_model.h5')\n",
        "joblib.dump(scaler, 'models/scaler.pkl')"
      ],
      "metadata": {
        "colab": {
          "base_uri": "https://localhost:8080/"
        },
        "id": "LifkeKFYcT69",
        "outputId": "b198a31c-1178-430c-9377-fcfd0e9317f9"
      },
      "execution_count": null,
      "outputs": [
        {
          "output_type": "stream",
          "name": "stdout",
          "text": [
            "Writing src/preprocessing.py\n",
            "Writing src/autoencoder_model.py\n",
            "Epoch 1/20\n",
            "\u001b[1m6/6\u001b[0m \u001b[32m━━━━━━━━━━━━━━━━━━━━\u001b[0m\u001b[37m\u001b[0m \u001b[1m4s\u001b[0m 239ms/step - loss: 0.8901 - val_loss: 0.6002\n",
            "Epoch 2/20\n",
            "\u001b[1m6/6\u001b[0m \u001b[32m━━━━━━━━━━━━━━━━━━━━\u001b[0m\u001b[37m\u001b[0m \u001b[1m0s\u001b[0m 12ms/step - loss: 0.8403 - val_loss: 0.5027\n",
            "Epoch 3/20\n",
            "\u001b[1m6/6\u001b[0m \u001b[32m━━━━━━━━━━━━━━━━━━━━\u001b[0m\u001b[37m\u001b[0m \u001b[1m0s\u001b[0m 12ms/step - loss: 0.4943 - val_loss: 0.4189\n",
            "Epoch 4/20\n",
            "\u001b[1m6/6\u001b[0m \u001b[32m━━━━━━━━━━━━━━━━━━━━\u001b[0m\u001b[37m\u001b[0m \u001b[1m0s\u001b[0m 11ms/step - loss: 0.3888 - val_loss: 0.3219\n",
            "Epoch 5/20\n",
            "\u001b[1m6/6\u001b[0m \u001b[32m━━━━━━━━━━━━━━━━━━━━\u001b[0m\u001b[37m\u001b[0m \u001b[1m0s\u001b[0m 11ms/step - loss: 0.3023 - val_loss: 0.2271\n",
            "Epoch 6/20\n",
            "\u001b[1m6/6\u001b[0m \u001b[32m━━━━━━━━━━━━━━━━━━━━\u001b[0m\u001b[37m\u001b[0m \u001b[1m0s\u001b[0m 11ms/step - loss: 0.1275 - val_loss: 0.1329\n",
            "Epoch 7/20\n",
            "\u001b[1m6/6\u001b[0m \u001b[32m━━━━━━━━━━━━━━━━━━━━\u001b[0m\u001b[37m\u001b[0m \u001b[1m0s\u001b[0m 11ms/step - loss: 0.0428 - val_loss: 0.0564\n",
            "Epoch 8/20\n",
            "\u001b[1m6/6\u001b[0m \u001b[32m━━━━━━━━━━━━━━━━━━━━\u001b[0m\u001b[37m\u001b[0m \u001b[1m0s\u001b[0m 11ms/step - loss: 0.0222 - val_loss: 0.0202\n",
            "Epoch 9/20\n",
            "\u001b[1m6/6\u001b[0m \u001b[32m━━━━━━━━━━━━━━━━━━━━\u001b[0m\u001b[37m\u001b[0m \u001b[1m0s\u001b[0m 13ms/step - loss: 0.0265 - val_loss: 0.0134\n",
            "Epoch 10/20\n",
            "\u001b[1m6/6\u001b[0m \u001b[32m━━━━━━━━━━━━━━━━━━━━\u001b[0m\u001b[37m\u001b[0m \u001b[1m0s\u001b[0m 12ms/step - loss: 0.0235 - val_loss: 0.0154\n",
            "Epoch 11/20\n",
            "\u001b[1m6/6\u001b[0m \u001b[32m━━━━━━━━━━━━━━━━━━━━\u001b[0m\u001b[37m\u001b[0m \u001b[1m0s\u001b[0m 12ms/step - loss: 0.0156 - val_loss: 0.0206\n",
            "Epoch 12/20\n",
            "\u001b[1m6/6\u001b[0m \u001b[32m━━━━━━━━━━━━━━━━━━━━\u001b[0m\u001b[37m\u001b[0m \u001b[1m0s\u001b[0m 12ms/step - loss: 0.0121 - val_loss: 0.0227\n",
            "Epoch 13/20\n",
            "\u001b[1m6/6\u001b[0m \u001b[32m━━━━━━━━━━━━━━━━━━━━\u001b[0m\u001b[37m\u001b[0m \u001b[1m0s\u001b[0m 11ms/step - loss: 0.0089 - val_loss: 0.0184\n",
            "Epoch 14/20\n",
            "\u001b[1m6/6\u001b[0m \u001b[32m━━━━━━━━━━━━━━━━━━━━\u001b[0m\u001b[37m\u001b[0m \u001b[1m0s\u001b[0m 42ms/step - loss: 0.0081 - val_loss: 0.0133\n",
            "Epoch 15/20\n",
            "\u001b[1m6/6\u001b[0m \u001b[32m━━━━━━━━━━━━━━━━━━━━\u001b[0m\u001b[37m\u001b[0m \u001b[1m0s\u001b[0m 11ms/step - loss: 0.0060 - val_loss: 0.0092\n",
            "Epoch 16/20\n",
            "\u001b[1m6/6\u001b[0m \u001b[32m━━━━━━━━━━━━━━━━━━━━\u001b[0m\u001b[37m\u001b[0m \u001b[1m0s\u001b[0m 11ms/step - loss: 0.0053 - val_loss: 0.0063\n",
            "Epoch 17/20\n",
            "\u001b[1m6/6\u001b[0m \u001b[32m━━━━━━━━━━━━━━━━━━━━\u001b[0m\u001b[37m\u001b[0m \u001b[1m0s\u001b[0m 11ms/step - loss: 0.0038 - val_loss: 0.0053\n",
            "Epoch 18/20\n",
            "\u001b[1m6/6\u001b[0m \u001b[32m━━━━━━━━━━━━━━━━━━━━\u001b[0m\u001b[37m\u001b[0m \u001b[1m0s\u001b[0m 11ms/step - loss: 0.0034 - val_loss: 0.0050\n",
            "Epoch 19/20\n",
            "\u001b[1m6/6\u001b[0m \u001b[32m━━━━━━━━━━━━━━━━━━━━\u001b[0m\u001b[37m\u001b[0m \u001b[1m0s\u001b[0m 45ms/step - loss: 0.0036 - val_loss: 0.0043\n",
            "Epoch 20/20\n",
            "\u001b[1m6/6\u001b[0m \u001b[32m━━━━━━━━━━━━━━━━━━━━\u001b[0m\u001b[37m\u001b[0m \u001b[1m0s\u001b[0m 14ms/step - loss: 0.0028 - val_loss: 0.0039\n"
          ]
        },
        {
          "output_type": "stream",
          "name": "stderr",
          "text": [
            "WARNING:absl:You are saving your model as an HDF5 file via `model.save()` or `keras.saving.save_model(model)`. This file format is considered legacy. We recommend using instead the native Keras format, e.g. `model.save('my_model.keras')` or `keras.saving.save_model(model, 'my_model.keras')`. \n"
          ]
        },
        {
          "output_type": "execute_result",
          "data": {
            "text/plain": [
              "['models/scaler.pkl']"
            ]
          },
          "metadata": {},
          "execution_count": 4
        }
      ]
    }
  ]
}