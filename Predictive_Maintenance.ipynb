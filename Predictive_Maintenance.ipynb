{
  "nbformat": 4,
  "nbformat_minor": 0,
  "metadata": {
    "colab": {
      "provenance": [],
      "gpuType": "T4"
    },
    "kernelspec": {
      "name": "python3",
      "display_name": "Python 3"
    },
    "language_info": {
      "name": "python"
    },
    "accelerator": "GPU"
  },
  "cells": [
    {
      "cell_type": "code",
      "execution_count": null,
      "metadata": {
        "id": "fhqZUwYGbEsr"
      },
      "outputs": [],
      "source": [
        "import pandas as pd\n",
        "from sklearn.preprocessing import StandardScaler\n",
        "\n",
        "def load_and_preprocess(filepath=\"/content/drive/MyDrive/turbine_sensor_data.csv\"):\n",
        "    import pandas as pd\n",
        "    from sklearn.preprocessing import StandardScaler\n",
        "\n",
        "    df = pd.read_csv(filepath, parse_dates=['timestamp'])\n",
        "    df = df.sort_values(by='timestamp')\n",
        "    features = df[['temperature', 'vibration', 'pressure']]\n",
        "    scaler = StandardScaler()\n",
        "    scaled_features = scaler.fit_transform(features)\n",
        "    return scaled_features, scaler, df\n",
        "\n"
      ]
    },
    {
      "cell_type": "code",
      "source": [
        "from keras.models import Model\n",
        "from keras.layers import Input, Dense\n",
        "\n",
        "def build_autoencoder(input_dim):\n",
        "    input_layer = Input(shape=(input_dim,))\n",
        "    encoded = Dense(64, activation=\"relu\")(input_layer)\n",
        "    encoded = Dense(32, activation=\"relu\")(encoded)\n",
        "    decoded = Dense(64, activation=\"relu\")(encoded)\n",
        "    output_layer = Dense(input_dim)(decoded)\n",
        "    autoencoder = Model(inputs=input_layer, outputs=output_layer)\n",
        "    autoencoder.compile(optimizer='adam', loss='mse')\n",
        "    return autoencoder\n"
      ],
      "metadata": {
        "id": "NvI1fQMkcO3S"
      },
      "execution_count": null,
      "outputs": []
    },
    {
      "cell_type": "code",
      "source": [
        "!mkdir -p data\n",
        "!mkdir -p models\n",
        "!mkdir -p src\n",
        "# Create empty __init__.py in src if it doesn't exist\n",
        "!touch src/__ini"
      ],
      "metadata": {
        "id": "54H68tPcclpk"
      },
      "execution_count": null,
      "outputs": []
    },
    {
      "cell_type": "code",
      "source": [
        "from IPython import get_ipython\n",
        "from IPython.display import display\n",
        "\n",
        "!mkdir -p data\n",
        "!mkdir -p models\n",
        "!mkdir -p src\n",
        "\n",
        "!touch src/__init__.py\n",
        "\n",
        "# Create preprocessing.py in src with the load_and_preprocess function\n",
        "# Using %%writefile to create the file in the notebook\n",
        "get_ipython().run_cell_magic('writefile', 'src/preprocessing.py', 'import pandas as pd\\nfrom sklearn.preprocessing import StandardScaler\\n\\ndef load_and_preprocess(filepath=\"/content/turbine_sensor_data.csv\"):\\n    df = pd.read_csv(filepath, parse_dates=[\\'timestamp\\'])\\n    df = df.sort_values(by=\\'timestamp\\')\\n    features = df[[\\'temperature\\', \\'vibration\\', \\'pressure\\']]\\n    scaler = StandardScaler()\\n    scaled_features = scaler.fit_transform(features)\\n    return scaled_features, scaler, df\\n')\n",
        "\n",
        "# Create autoencoder_model.py in src with the build_autoencoder function\n",
        "get_ipython().run_cell_magic('writefile', 'src/autoencoder_model.py', 'from keras.models import Model\\nfrom keras.layers import Input, Dense\\n\\ndef build_autoencoder(input_dim):\\n    input_layer = Input(shape=(input_dim,))\\n    encoded = Dense(64, activation=\"relu\")(input_layer)\\n    encoded = Dense(32, activation=\"relu\")(encoded)\\n    decoded = Dense(64, activation=\"relu\")(encoded)\\n    output_layer = Dense(input_dim)(decoded)\\n    autoencoder = Model(inputs=input_layer, outputs=output_layer)\\n    autoencoder.compile(optimizer=\\'adam\\', loss=\\'mse\\')\\n    return autoencoder\\n')\n",
        "\n",
        "# %%\n",
        "import sys\n",
        "import os\n",
        "\n",
        "\n",
        "sys.path.append(os.getcwd())\n",
        "\n",
        "from src.preprocessing import load_and_preprocess\n",
        "from src.autoencoder_model import build_autoencoder\n",
        "import numpy as np\n",
        "import joblib\n",
        "\n",
        "data, scaler, df = load_and_preprocess('/content/drive/MyDrive/turbine_sensor_data.csv')\n",
        "\n",
        "\n",
        "model = build_autoencoder(data.shape[1])\n",
        "model.fit(data, data, epochs=20, batch_size=32, validation_split=0.1)\n",
        "\n",
        "model.save('models/autoencoder_model.h5')\n",
        "joblib.dump(scaler, 'models/scaler.pkl')"
      ],
      "metadata": {
        "colab": {
          "base_uri": "https://localhost:8080/"
        },
        "id": "LifkeKFYcT69",
        "outputId": "7d9bc6e9-a9a8-4618-e318-981d4a85b67a"
      },
      "execution_count": 1,
      "outputs": [
        {
          "output_type": "stream",
          "name": "stdout",
          "text": [
            "Writing src/preprocessing.py\n",
            "Writing src/autoencoder_model.py\n",
            "Epoch 1/20\n",
            "\u001b[1m6/6\u001b[0m \u001b[32m━━━━━━━━━━━━━━━━━━━━\u001b[0m\u001b[37m\u001b[0m \u001b[1m5s\u001b[0m 398ms/step - loss: 0.8440 - val_loss: 0.4690\n",
            "Epoch 2/20\n",
            "\u001b[1m6/6\u001b[0m \u001b[32m━━━━━━━━━━━━━━━━━━━━\u001b[0m\u001b[37m\u001b[0m \u001b[1m2s\u001b[0m 12ms/step - loss: 0.6405 - val_loss: 0.4214\n",
            "Epoch 3/20\n",
            "\u001b[1m6/6\u001b[0m \u001b[32m━━━━━━━━━━━━━━━━━━━━\u001b[0m\u001b[37m\u001b[0m \u001b[1m0s\u001b[0m 11ms/step - loss: 0.5471 - val_loss: 0.3622\n",
            "Epoch 4/20\n",
            "\u001b[1m6/6\u001b[0m \u001b[32m━━━━━━━━━━━━━━━━━━━━\u001b[0m\u001b[37m\u001b[0m \u001b[1m0s\u001b[0m 13ms/step - loss: 0.2879 - val_loss: 0.2888\n",
            "Epoch 5/20\n",
            "\u001b[1m6/6\u001b[0m \u001b[32m━━━━━━━━━━━━━━━━━━━━\u001b[0m\u001b[37m\u001b[0m \u001b[1m0s\u001b[0m 12ms/step - loss: 0.2478 - val_loss: 0.2173\n",
            "Epoch 6/20\n",
            "\u001b[1m6/6\u001b[0m \u001b[32m━━━━━━━━━━━━━━━━━━━━\u001b[0m\u001b[37m\u001b[0m \u001b[1m0s\u001b[0m 13ms/step - loss: 0.1356 - val_loss: 0.1368\n",
            "Epoch 7/20\n",
            "\u001b[1m6/6\u001b[0m \u001b[32m━━━━━━━━━━━━━━━━━━━━\u001b[0m\u001b[37m\u001b[0m \u001b[1m0s\u001b[0m 12ms/step - loss: 0.0867 - val_loss: 0.0678\n",
            "Epoch 8/20\n",
            "\u001b[1m6/6\u001b[0m \u001b[32m━━━━━━━━━━━━━━━━━━━━\u001b[0m\u001b[37m\u001b[0m \u001b[1m0s\u001b[0m 11ms/step - loss: 0.0556 - val_loss: 0.0261\n",
            "Epoch 9/20\n",
            "\u001b[1m6/6\u001b[0m \u001b[32m━━━━━━━━━━━━━━━━━━━━\u001b[0m\u001b[37m\u001b[0m \u001b[1m0s\u001b[0m 11ms/step - loss: 0.0363 - val_loss: 0.0161\n",
            "Epoch 10/20\n",
            "\u001b[1m6/6\u001b[0m \u001b[32m━━━━━━━━━━━━━━━━━━━━\u001b[0m\u001b[37m\u001b[0m \u001b[1m0s\u001b[0m 12ms/step - loss: 0.0302 - val_loss: 0.0128\n",
            "Epoch 11/20\n",
            "\u001b[1m6/6\u001b[0m \u001b[32m━━━━━━━━━━━━━━━━━━━━\u001b[0m\u001b[37m\u001b[0m \u001b[1m0s\u001b[0m 12ms/step - loss: 0.0281 - val_loss: 0.0169\n",
            "Epoch 12/20\n",
            "\u001b[1m6/6\u001b[0m \u001b[32m━━━━━━━━━━━━━━━━━━━━\u001b[0m\u001b[37m\u001b[0m \u001b[1m0s\u001b[0m 12ms/step - loss: 0.0223 - val_loss: 0.0214\n",
            "Epoch 13/20\n",
            "\u001b[1m6/6\u001b[0m \u001b[32m━━━━━━━━━━━━━━━━━━━━\u001b[0m\u001b[37m\u001b[0m \u001b[1m0s\u001b[0m 12ms/step - loss: 0.0181 - val_loss: 0.0206\n",
            "Epoch 14/20\n",
            "\u001b[1m6/6\u001b[0m \u001b[32m━━━━━━━━━━━━━━━━━━━━\u001b[0m\u001b[37m\u001b[0m \u001b[1m0s\u001b[0m 12ms/step - loss: 0.0160 - val_loss: 0.0204\n",
            "Epoch 15/20\n",
            "\u001b[1m6/6\u001b[0m \u001b[32m━━━━━━━━━━━━━━━━━━━━\u001b[0m\u001b[37m\u001b[0m \u001b[1m0s\u001b[0m 16ms/step - loss: 0.0144 - val_loss: 0.0172\n",
            "Epoch 16/20\n",
            "\u001b[1m6/6\u001b[0m \u001b[32m━━━━━━━━━━━━━━━━━━━━\u001b[0m\u001b[37m\u001b[0m \u001b[1m0s\u001b[0m 11ms/step - loss: 0.0123 - val_loss: 0.0134\n",
            "Epoch 17/20\n",
            "\u001b[1m6/6\u001b[0m \u001b[32m━━━━━━━━━━━━━━━━━━━━\u001b[0m\u001b[37m\u001b[0m \u001b[1m0s\u001b[0m 12ms/step - loss: 0.0093 - val_loss: 0.0105\n",
            "Epoch 18/20\n",
            "\u001b[1m6/6\u001b[0m \u001b[32m━━━━━━━━━━━━━━━━━━━━\u001b[0m\u001b[37m\u001b[0m \u001b[1m0s\u001b[0m 11ms/step - loss: 0.0077 - val_loss: 0.0098\n",
            "Epoch 19/20\n",
            "\u001b[1m6/6\u001b[0m \u001b[32m━━━━━━━━━━━━━━━━━━━━\u001b[0m\u001b[37m\u001b[0m \u001b[1m0s\u001b[0m 12ms/step - loss: 0.0062 - val_loss: 0.0089\n",
            "Epoch 20/20\n",
            "\u001b[1m6/6\u001b[0m \u001b[32m━━━━━━━━━━━━━━━━━━━━\u001b[0m\u001b[37m\u001b[0m \u001b[1m0s\u001b[0m 11ms/step - loss: 0.0049 - val_loss: 0.0080\n"
          ]
        },
        {
          "output_type": "stream",
          "name": "stderr",
          "text": [
            "WARNING:absl:You are saving your model as an HDF5 file via `model.save()` or `keras.saving.save_model(model)`. This file format is considered legacy. We recommend using instead the native Keras format, e.g. `model.save('my_model.keras')` or `keras.saving.save_model(model, 'my_model.keras')`. \n"
          ]
        },
        {
          "output_type": "execute_result",
          "data": {
            "text/plain": [
              "['models/scaler.pkl']"
            ]
          },
          "metadata": {},
          "execution_count": 1
        }
      ]
    }
  ]
}